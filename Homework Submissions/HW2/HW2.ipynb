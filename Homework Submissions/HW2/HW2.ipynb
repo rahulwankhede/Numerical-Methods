{
 "cells": [
  {
   "cell_type": "markdown",
   "metadata": {},
   "source": [
    "## Problem 1"
   ]
  },
  {
   "cell_type": "markdown",
   "metadata": {},
   "source": [
    "### i) Newton's Method"
   ]
  },
  {
   "cell_type": "code",
   "execution_count": 1,
   "metadata": {},
   "outputs": [],
   "source": [
    "import numpy as np\n",
    "import matplotlib.pyplot as plt\n",
    "import seaborn"
   ]
  },
  {
   "cell_type": "code",
   "execution_count": 2,
   "metadata": {},
   "outputs": [],
   "source": [
    "def my_func_1(x):\n",
    "    return x + np.exp(-np.square(x))*np.cos(x)\n",
    "\n",
    "def my_func_2(x):\n",
    "    return np.square(my_func_1(x))\n",
    "\n",
    "\n",
    "def der_my_func_1(x):\n",
    "    return 1 - np.exp(-np.square(x))*(np.sin(x) + 2*x*np.cos(x))\n",
    "\n",
    "def der_my_func_2(x):\n",
    "    return 2*my_func_1(x)*der_my_func_1(x)\n",
    "\n",
    "\n",
    "def double_der_my_func_1(x):\n",
    "    return 2 * np.exp(-np.square(x)) * (np.cos(x) * (2*np.square(x) - 1) + np.sin(x)*(x+1))\n",
    "\n",
    "def double_der_my_func_2(x):\n",
    "    return 2 * (my_func_1(x) * double_der_my_func_1(x) + np.square(der_my_func_1(x)))"
   ]
  },
  {
   "cell_type": "code",
   "execution_count": 3,
   "metadata": {},
   "outputs": [],
   "source": [
    "def Newton(func=my_func_1, der_func=der_my_func_1, p_0 = 0, tol = 1e-6, max_iter=1000):\n",
    "    \"\"\"returns (p_n, no. of iterations, approximations)\"\"\"\n",
    "    p_n = p_0; i = 0; approximations = [p_n]\n",
    "    while(i < max_iter):\n",
    "        derivative = der_func(p_n)\n",
    "        if abs(derivative) < np.finfo(float).eps:\n",
    "            print(\"Derivative vanished. Stopping iteration\")\n",
    "            return (p_n, i, approximations)\n",
    "        i += 1\n",
    "        \n",
    "        p_nplus1 = p_n - func(p_n)/derivative\n",
    "        approximations.append(p_nplus1)\n",
    "        if abs(p_nplus1 - p_n) < tol:\n",
    "            break\n",
    "        p_n = p_nplus1\n",
    "        \n",
    "    return (p_nplus1, i, approximations)"
   ]
  },
  {
   "cell_type": "markdown",
   "metadata": {},
   "source": [
    "#### a) $f(x) = x + e^{-x^2}cos(x)$"
   ]
  },
  {
   "cell_type": "code",
   "execution_count": 4,
   "metadata": {},
   "outputs": [
    {
     "name": "stdout",
     "output_type": "stream",
     "text": [
      "p_n =  -0.5884017765009963\n",
      "iterations =  5\n"
     ]
    }
   ],
   "source": [
    "(p_n, iterations, approximations) = Newton()\n",
    "print(\"p_n = \", p_n)\n",
    "print(\"iterations = \", iterations)\n",
    "#print(\"approximations = \", approximations)"
   ]
  },
  {
   "cell_type": "code",
   "execution_count": 5,
   "metadata": {},
   "outputs": [],
   "source": [
    "errors = [abs(my_func_1(i)) for i in approximations]\n",
    "\n",
    "e_nplus1 = errors[1:]\n",
    "e_n = errors[:-1]\n",
    "\n",
    "x = np.log(e_n)\n",
    "y = np.log(e_nplus1);"
   ]
  },
  {
   "cell_type": "code",
   "execution_count": 6,
   "metadata": {},
   "outputs": [
    {
     "data": {
      "image/png": "[encoded data removed]",
      "text/plain": [
       "<matplotlib.figure.Figure at 0x20094213198>"
      ]
     },
     "metadata": {},
     "output_type": "display_data"
    }
   ],
   "source": [
    "fig,ax = plt.subplots()\n",
    "plt.xlabel('log(En)')\n",
    "plt.ylabel('log(En+1)')\n",
    "ax.scatter(x,y)\n",
    "ax.plot(x, np.poly1d(np.polyfit(x,y,1))(x))\n",
    "ax.grid(True)\n",
    "ax.set_aspect(0.5) # = 1/2.0 since 2.0 is the convergence rate of Newton's method"
   ]
  },
  {
   "cell_type": "markdown",
   "metadata": {},
   "source": [
    "##### So we're getting a curve which can be best fit with a straight line of slope nearly 2 (as expected since Newton's converges quadratically).\n",
    "##### Root found = -0.5884017765009963\n",
    "##### No. of iterations taken = 5"
   ]
  },
  {
   "cell_type": "markdown",
   "metadata": {},
   "source": [
    "###### Let's also use the function value of our approximation (its difference from 0) as our error metric (since we don't know the exact value of the root)\n"
   ]
  },
  {
   "cell_type": "code",
   "execution_count": 7,
   "metadata": {},
   "outputs": [
    {
     "name": "stdout",
     "output_type": "stream",
     "text": [
      "absolute error =  1.1102230246251565e-16\n"
     ]
    }
   ],
   "source": [
    "print(\"absolute error = \", abs(my_func_1(p_n)))"
   ]
  },
  {
   "cell_type": "code",
   "execution_count": null,
   "metadata": {},
   "outputs": [],
   "source": []
  },
  {
   "cell_type": "markdown",
   "metadata": {},
   "source": [
    "#### b) $f(x) = (x + e^{-x^2}cos(x))^2$"
   ]
  },
  {
   "cell_type": "code",
   "execution_count": 8,
   "metadata": {},
   "outputs": [],
   "source": [
    "(p_n, iterations, approximations) = Newton(func=my_func_2, der_func=der_my_func_2)"
   ]
  },
  {
   "cell_type": "code",
   "execution_count": 9,
   "metadata": {},
   "outputs": [
    {
     "name": "stdout",
     "output_type": "stream",
     "text": [
      "p_n =  -0.5884011102599648\n",
      "iterations =  18\n"
     ]
    }
   ],
   "source": [
    "print(\"p_n = \", p_n)\n",
    "print(\"iterations = \", iterations)\n",
    "#print(\"approximations = \", approximations)"
   ]
  },
  {
   "cell_type": "code",
   "execution_count": 10,
   "metadata": {},
   "outputs": [],
   "source": [
    "errors = [abs(my_func_1(i)) for i in approximations]"
   ]
  },
  {
   "cell_type": "code",
   "execution_count": 11,
   "metadata": {},
   "outputs": [],
   "source": [
    "e_nplus1 = errors[1:]\n",
    "e_n = errors[:-1]\n",
    "\n",
    "x = np.log(e_n)\n",
    "y = np.log(e_nplus1);"
   ]
  },
  {
   "cell_type": "code",
   "execution_count": 12,
   "metadata": {},
   "outputs": [
    {
     "data": {
      "image/png": "[encoded data removed]",
      "text/plain": [
       "<matplotlib.figure.Figure at 0x200941fab00>"
      ]
     },
     "metadata": {},
     "output_type": "display_data"
    }
   ],
   "source": [
    "fig,ax = plt.subplots()\n",
    "plt.xlabel('log(En)')\n",
    "plt.ylabel('log(En+1)')\n",
    "ax.scatter(x,y)\n",
    "ax.plot(x, np.poly1d(np.polyfit(x,y,1))(x))\n",
    "ax.grid(True)\n",
    "ax.set_aspect(1) # = 1/1.0"
   ]
  },
  {
   "cell_type": "markdown",
   "metadata": {},
   "source": [
    "##### So we're getting a straight line of slope nearly 1 (as expected since Newton's converges linearly when the derivative at the root is 0).\n",
    "##### Root found = -0.5884011102599648\n",
    "##### No. of iterations taken = 18"
   ]
  },
  {
   "cell_type": "code",
   "execution_count": 13,
   "metadata": {},
   "outputs": [
    {
     "name": "stdout",
     "output_type": "stream",
     "text": [
      "absolute error =  1.929708636477569e-12\n"
     ]
    }
   ],
   "source": [
    "print(\"absolute error = \", abs(my_func_2(p_n)))"
   ]
  },
  {
   "cell_type": "markdown",
   "metadata": {},
   "source": []
  },
  {
   "cell_type": "code",
   "execution_count": null,
   "metadata": {},
   "outputs": [],
   "source": []
  },
  {
   "cell_type": "markdown",
   "metadata": {},
   "source": [
    "### ii) Secant Method"
   ]
  },
  {
   "cell_type": "code",
   "execution_count": 14,
   "metadata": {},
   "outputs": [],
   "source": [
    "def Secant(func=my_func_1, p_0 = 0, p_1 = 1, tol = 1e-6, max_iter=1000):\n",
    "    \"\"\"returns (p_n, no. of iterations, approximations)\"\"\"\n",
    "    p_n = p_1; p_nminus1 = p_0; i = 0; approximations = [p_nminus1, p_n]\n",
    "    while(i < max_iter):\n",
    "        derivative = (func(p_n) - func(p_nminus1))/(p_n - p_nminus1)\n",
    "        if abs(derivative) < np.finfo(float).eps:\n",
    "            print(\"Derivative vanished. Stopping iteration\")\n",
    "            return (p_n, i, approximations)\n",
    "        i += 1\n",
    "        \n",
    "        p_nplus1 = p_n - func(p_n)/derivative\n",
    "        approximations.append(p_nplus1)\n",
    "        if abs(p_nplus1 - p_n) < tol:\n",
    "            break\n",
    "        p_nminus1 = p_n\n",
    "        p_n = p_nplus1\n",
    "        \n",
    "        \n",
    "    return (p_nplus1, i, approximations)"
   ]
  },
  {
   "cell_type": "code",
   "execution_count": 15,
   "metadata": {},
   "outputs": [
    {
     "name": "stdout",
     "output_type": "stream",
     "text": [
      "p_n =  -0.5884017765009013\n",
      "iterations =  7\n"
     ]
    }
   ],
   "source": [
    "(p_n, iterations, approximations) = Secant()\n",
    "print(\"p_n = \", p_n)\n",
    "print(\"iterations = \", iterations)\n",
    "#print(\"approximations = \", approximations)"
   ]
  },
  {
   "cell_type": "code",
   "execution_count": 16,
   "metadata": {},
   "outputs": [],
   "source": [
    "errors = [abs(my_func_1(i)) for i in approximations]\n",
    "\n",
    "e_nplus1 = errors[1:]\n",
    "e_n = errors[:-1]\n",
    "\n",
    "x = np.log(e_n)\n",
    "y = np.log(e_nplus1);"
   ]
  },
  {
   "cell_type": "code",
   "execution_count": 17,
   "metadata": {},
   "outputs": [
    {
     "data": {
      "image/png": "[encoded data removed]",
      "text/plain": [
       "<matplotlib.figure.Figure at 0x200963249e8>"
      ]
     },
     "metadata": {},
     "output_type": "display_data"
    }
   ],
   "source": [
    "fig,ax = plt.subplots()\n",
    "plt.xlabel('log(En)')\n",
    "plt.ylabel('log(En+1)')\n",
    "ax.scatter(x,y)\n",
    "ax.plot(x, np.poly1d(np.polyfit(x,y,1))(x))\n",
    "ax.grid(True)\n",
    "ax.set_aspect(0.617) # = 1/1.62"
   ]
  },
  {
   "cell_type": "markdown",
   "metadata": {},
   "source": [
    "##### So we're getting an almost straight line of slope nearly 1.62 (as expected since Secant's has that convergence rate).\n",
    "##### Root found = -0.5884017765009013\n",
    "##### No. of iterations taken = 7"
   ]
  },
  {
   "cell_type": "code",
   "execution_count": 18,
   "metadata": {},
   "outputs": [
    {
     "name": "stdout",
     "output_type": "stream",
     "text": [
      "absolute error =  1.9806378759312793e-13\n"
     ]
    }
   ],
   "source": [
    "print(\"absolute error = \", abs(my_func_1(p_n)))"
   ]
  },
  {
   "cell_type": "code",
   "execution_count": null,
   "metadata": {},
   "outputs": [],
   "source": []
  },
  {
   "cell_type": "markdown",
   "metadata": {},
   "source": [
    "#### b) $f(x) = (x + e^{-x^2}cos(x))^2$"
   ]
  },
  {
   "cell_type": "code",
   "execution_count": 19,
   "metadata": {},
   "outputs": [
    {
     "name": "stdout",
     "output_type": "stream",
     "text": [
      "p_n =  -0.5884006785832132\n",
      "iterations =  33\n"
     ]
    }
   ],
   "source": [
    "(p_n, iterations, approximations) = Secant(func=my_func_2)\n",
    "print(\"p_n = \", p_n)\n",
    "print(\"iterations = \", iterations)\n",
    "#print(\"approximations = \", approximations)"
   ]
  },
  {
   "cell_type": "code",
   "execution_count": 20,
   "metadata": {},
   "outputs": [],
   "source": [
    "errors = [abs(my_func_1(i)) for i in approximations]"
   ]
  },
  {
   "cell_type": "code",
   "execution_count": 21,
   "metadata": {},
   "outputs": [],
   "source": [
    "e_nplus1 = errors[1:]\n",
    "e_n = errors[:-1]\n",
    "\n",
    "x = np.log(e_n)\n",
    "y = np.log(e_nplus1);"
   ]
  },
  {
   "cell_type": "code",
   "execution_count": 22,
   "metadata": {},
   "outputs": [
    {
     "data": {
      "image/png": "[encoded data removed]",
      "text/plain": [
       "<matplotlib.figure.Figure at 0x20096291eb8>"
      ]
     },
     "metadata": {},
     "output_type": "display_data"
    }
   ],
   "source": [
    "fig,ax = plt.subplots()\n",
    "plt.xlabel('log(En)')\n",
    "plt.ylabel('log(En+1)')\n",
    "ax.scatter(x,y)\n",
    "ax.plot(x, np.poly1d(np.polyfit(x,y,1))(x))\n",
    "ax.grid(True)\n",
    "ax.set_aspect(1) # = 1/1.0"
   ]
  },
  {
   "cell_type": "markdown",
   "metadata": {},
   "source": [
    "##### So we're getting an almost straight line of slope nearly 1 (as expected since Secant's has that convergence rate when the multiplicity is 2).\n",
    "##### Root found = -0.5884006785832132\n",
    "##### No. of iterations taken = 33"
   ]
  },
  {
   "cell_type": "code",
   "execution_count": 23,
   "metadata": {},
   "outputs": [
    {
     "name": "stdout",
     "output_type": "stream",
     "text": [
      "absolute error =  5.240450526912252e-12\n"
     ]
    }
   ],
   "source": [
    "print(\"absolute error = \", abs(my_func_2(p_n)))"
   ]
  },
  {
   "cell_type": "code",
   "execution_count": null,
   "metadata": {},
   "outputs": [],
   "source": []
  },
  {
   "cell_type": "code",
   "execution_count": null,
   "metadata": {},
   "outputs": [],
   "source": []
  },
  {
   "cell_type": "markdown",
   "metadata": {},
   "source": [
    "### iii) Modified Newton's Method"
   ]
  },
  {
   "cell_type": "code",
   "execution_count": 24,
   "metadata": {},
   "outputs": [],
   "source": [
    "def numerator_term_func_1(x):\n",
    "    return my_func_1(x)*der_my_func_1(x) \n",
    "    \n",
    "def denominator_term_func_1(x):\n",
    "    return np.square(der_my_func_1(x)) - my_func_1(x)*double_der_my_func_1(x)\n",
    "\n",
    "def numerator_term_func_2(x):\n",
    "    return my_func_2(x)*der_my_func_2(x)\n",
    "\n",
    "def denominator_term_func_2(x):\n",
    "    return np.square(der_my_func_2(x)) - my_func_2(x)*double_der_my_func_2(x)\n"
   ]
  },
  {
   "cell_type": "code",
   "execution_count": 25,
   "metadata": {},
   "outputs": [],
   "source": [
    "def ModNewton(numerator_term=numerator_term_func_1, denominator_term = denominator_term_func_1,\n",
    "              p_0 = 0, tol = 1e-6, max_iter=1000):\n",
    "    \"\"\"returns (p_n, no. of iterations, approximations)\"\"\"\n",
    "    p_n = p_0; i = 0; approximations = [p_n]\n",
    "    while(i < max_iter):\n",
    "        derivative = denominator_term(p_n)\n",
    "        if abs(derivative) < np.finfo(float).eps:\n",
    "            printf(\"Derivative vanished. Stopping iteration\")\n",
    "            return (p_n, i, approximations)\n",
    "        i += 1\n",
    "        \n",
    "        p_nplus1 = p_n - numerator_term(p_n)/derivative\n",
    "        approximations.append(p_nplus1)\n",
    "        if abs(p_nplus1 - p_n) < tol:\n",
    "            break\n",
    "        p_n = p_nplus1\n",
    "        \n",
    "    return (p_nplus1, i, approximations)"
   ]
  },
  {
   "cell_type": "markdown",
   "metadata": {},
   "source": [
    "#### a) $f(x) = x + e^{-x^2}cos(x)$"
   ]
  },
  {
   "cell_type": "code",
   "execution_count": 26,
   "metadata": {},
   "outputs": [
    {
     "name": "stdout",
     "output_type": "stream",
     "text": [
      "p_n =  -0.5884017765009951\n",
      "iterations =  5\n"
     ]
    }
   ],
   "source": [
    "(p_n, iterations, approximations) = ModNewton()\n",
    "print(\"p_n = \", p_n)\n",
    "print(\"iterations = \", iterations)\n",
    "#print(\"approximations = \", approximations)"
   ]
  },
  {
   "cell_type": "code",
   "execution_count": 27,
   "metadata": {},
   "outputs": [],
   "source": [
    "errors = [abs(my_func_1(i)) for i in approximations]\n",
    "\n",
    "e_nplus1 = errors[1:]\n",
    "e_n = errors[:-1]\n",
    "\n",
    "x = np.log(e_n)\n",
    "y = np.log(e_nplus1);"
   ]
  },
  {
   "cell_type": "code",
   "execution_count": 28,
   "metadata": {},
   "outputs": [
    {
     "data": {
      "image/png": "[encoded data removed]",
      "text/plain": [
       "<matplotlib.figure.Figure at 0x20094205f60>"
      ]
     },
     "metadata": {},
     "output_type": "display_data"
    }
   ],
   "source": [
    "fig,ax = plt.subplots()\n",
    "plt.xlabel('log(En)')\n",
    "plt.ylabel('log(En+1)')\n",
    "ax.scatter(x,y)\n",
    "ax.plot(x, np.poly1d(np.polyfit(x,y,1))(x))\n",
    "ax.grid(True)\n",
    "ax.set_aspect(0.5) # = 1/2.0"
   ]
  },
  {
   "cell_type": "markdown",
   "metadata": {},
   "source": [
    "##### Straight line with slope 2, as expected (Modified Newton's convergence rate)\n",
    "##### Root found = -0.5884017765009951\n",
    "##### No. of iterations taken = 5"
   ]
  },
  {
   "cell_type": "code",
   "execution_count": 29,
   "metadata": {},
   "outputs": [
    {
     "name": "stdout",
     "output_type": "stream",
     "text": [
      "absolute error =  2.4424906541753444e-15\n"
     ]
    }
   ],
   "source": [
    "print(\"absolute error = \", abs(my_func_1(p_n)))"
   ]
  },
  {
   "cell_type": "code",
   "execution_count": null,
   "metadata": {},
   "outputs": [],
   "source": []
  },
  {
   "cell_type": "markdown",
   "metadata": {},
   "source": [
    "#### b) $f(x) = (x + e^{-x^2}cos(x))^2$"
   ]
  },
  {
   "cell_type": "code",
   "execution_count": 30,
   "metadata": {},
   "outputs": [
    {
     "name": "stdout",
     "output_type": "stream",
     "text": [
      "p_n =  -0.5884017765009951\n",
      "iterations =  5\n"
     ]
    }
   ],
   "source": [
    "(p_n, iterations, approximations) = ModNewton(numerator_term=numerator_term_func_2,\n",
    "                                              denominator_term = denominator_term_func_2)\n",
    "print(\"p_n = \", p_n)\n",
    "print(\"iterations = \", iterations)\n",
    "#print(\"approximations = \", approximations)"
   ]
  },
  {
   "cell_type": "code",
   "execution_count": 31,
   "metadata": {},
   "outputs": [],
   "source": [
    "errors = [abs(my_func_1(i)) for i in approximations]\n",
    "\n",
    "e_nplus1 = errors[1:]\n",
    "e_n = errors[:-1]\n",
    "\n",
    "x = np.log(e_n)\n",
    "y = np.log(e_nplus1);"
   ]
  },
  {
   "cell_type": "code",
   "execution_count": 32,
   "metadata": {},
   "outputs": [
    {
     "data": {
      "image/png": "[encoded data removed]",
      "text/plain": [
       "<matplotlib.figure.Figure at 0x200963d9630>"
      ]
     },
     "metadata": {},
     "output_type": "display_data"
    }
   ],
   "source": [
    "fig,ax = plt.subplots()\n",
    "plt.xlabel('log(En)')\n",
    "plt.ylabel('log(En+1)')\n",
    "ax.scatter(x,y)\n",
    "ax.plot(x, np.poly1d(np.polyfit(x,y,1))(x))\n",
    "ax.grid(True)\n",
    "ax.set_aspect(0.5) # = 1/2.0"
   ]
  },
  {
   "cell_type": "markdown",
   "metadata": {},
   "source": [
    "##### Straight line with slope 2, as expected (Modified Newton's convergence rate even when multpicity is 2)\n",
    "##### Root found = -0.5884017765009951\n",
    "##### No. of iterations taken = 5\n",
    "##### (We actually get the exact same equations (numerator and denominator terms) and hence the same answer for both problems when using Modified Newton's)"
   ]
  },
  {
   "cell_type": "code",
   "execution_count": 33,
   "metadata": {},
   "outputs": [
    {
     "name": "stdout",
     "output_type": "stream",
     "text": [
      "absolute error =  5.965760595733902e-30\n"
     ]
    }
   ],
   "source": [
    "print(\"absolute error = \", abs(my_func_2(p_n)))"
   ]
  },
  {
   "cell_type": "code",
   "execution_count": null,
   "metadata": {},
   "outputs": [],
   "source": []
  },
  {
   "cell_type": "code",
   "execution_count": null,
   "metadata": {},
   "outputs": [],
   "source": []
  },
  {
   "cell_type": "code",
   "execution_count": null,
   "metadata": {},
   "outputs": [],
   "source": []
  },
  {
   "cell_type": "markdown",
   "metadata": {},
   "source": [
    "## Problem 2"
   ]
  },
  {
   "cell_type": "markdown",
   "metadata": {},
   "source": [
    "$$g(x) = x - \\phi(x)f(x) - \\psi(x)f^2(x)$$"
   ]
  },
  {
   "cell_type": "markdown",
   "metadata": {},
   "source": [
    "For cubic convergence, g'(p) = g\"(p) = 0.\n",
    "\n",
    "So, differentiating,"
   ]
  },
  {
   "cell_type": "markdown",
   "metadata": {},
   "source": [
    "\\begin{equation*}\n",
    "g'(x) = 1 - (\\phi'(x)f(x) + \\phi(x)f'(x)) - (\\psi'(x)f^2(x) + 2\\psi(x)f(x)f'(x))\\\\\n",
    "\\end{equation*}"
   ]
  },
  {
   "cell_type": "markdown",
   "metadata": {},
   "source": [
    "Since p is a root, g(p) = p and f(p) = 0.\n",
    "\n",
    "Putting x = p gives:"
   ]
  },
  {
   "cell_type": "markdown",
   "metadata": {},
   "source": [
    "\\begin{align*}\n",
    "0 = 1 - \\phi(p)f'(p) \\\\\n",
    "\\phi(p) = \\frac{1}{f'(p)} \\\\\n",
    "\\end{align*}"
   ]
  },
  {
   "cell_type": "markdown",
   "metadata": {},
   "source": [
    "i.e.,"
   ]
  },
  {
   "cell_type": "markdown",
   "metadata": {},
   "source": [
    "$$\\phi(x) = \\frac{1}{f'(x)}$$"
   ]
  },
  {
   "cell_type": "markdown",
   "metadata": {},
   "source": [
    "$\\therefore$"
   ]
  },
  {
   "cell_type": "markdown",
   "metadata": {},
   "source": [
    "$$\\phi'(x) = \\frac{-f''(x)}{f'(x)^2}$$"
   ]
  },
  {
   "cell_type": "markdown",
   "metadata": {},
   "source": [
    "We'll simplify it for ease to"
   ]
  },
  {
   "cell_type": "markdown",
   "metadata": {},
   "source": [
    "$$\\phi' = \\frac{-f''}{f'^2}$$"
   ]
  },
  {
   "cell_type": "markdown",
   "metadata": {},
   "source": [
    "So, we can write g'(x) as:"
   ]
  },
  {
   "cell_type": "markdown",
   "metadata": {},
   "source": [
    "\\begin{align*}\n",
    "g' &= 1 - (\\phi'f + \\phi f') - (\\psi'f^2 + 2\\psi ff') \\\\\n",
    "&= 1 - (\\dfrac{-ff''}{f'^2} + 1) - (\\psi'f^2 + 2\\psi ff') \\\\\n",
    "&= \\dfrac{ff''}{f'^2} - (\\psi'f^2 + 2\\psi ff') \\\\\n",
    "\\end{align*}"
   ]
  },
  {
   "cell_type": "markdown",
   "metadata": {},
   "source": [
    "Differentiating once more, we get:"
   ]
  },
  {
   "cell_type": "markdown",
   "metadata": {},
   "source": [
    "\\begin{align*}\n",
    "g'' &= \\dfrac{ff'f''' + f'^2f'' - 2ff''^2}{f'^3} - (f^2\\psi'' + 4ff'\\psi' + 2ff''\\psi + 2f'^2\\psi)\n",
    "\\end{align*}"
   ]
  },
  {
   "cell_type": "markdown",
   "metadata": {},
   "source": [
    "Now, putting x = p gives:"
   ]
  },
  {
   "cell_type": "markdown",
   "metadata": {},
   "source": [
    "\\begin{align*}\n",
    "g''(p) &= 0 = \\dfrac{f''}{f'} - 2f'^2\\psi \\\\\n",
    "\\psi &= \\dfrac{f''}{2f'^3}\n",
    "\\end{align*}"
   ]
  },
  {
   "cell_type": "markdown",
   "metadata": {},
   "source": [
    "Therefore,"
   ]
  },
  {
   "cell_type": "markdown",
   "metadata": {},
   "source": [
    "$$\\phi(x) = \\frac{1}{f'(x)}$$"
   ]
  },
  {
   "cell_type": "markdown",
   "metadata": {},
   "source": [
    "and"
   ]
  },
  {
   "cell_type": "markdown",
   "metadata": {},
   "source": [
    "$$\\psi(x) = \\dfrac{f''(x)}{2f'(x)^3}$$"
   ]
  },
  {
   "cell_type": "markdown",
   "metadata": {},
   "source": [
    "Hence,"
   ]
  },
  {
   "cell_type": "markdown",
   "metadata": {},
   "source": [
    "$$g(x) = x - \\dfrac{f(x)}{f'(x)} - \\dfrac{f''(x)f^2(x)}{2f'(x)^3}$$"
   ]
  },
  {
   "cell_type": "markdown",
   "metadata": {},
   "source": [
    "Now, since the convergence is cubic, its rate is given by:\n",
    "\n",
    "\\begin{align*}\n",
    "\\epsilon_{n+1} = \\frac{g'''(p)}{3!} \\epsilon_n^3 \\\\\n",
    "\\frac{\\epsilon_{n+1}}{\\epsilon_n^3} = \\frac{g'''(p)}{6} \\\\\n",
    "\\end{align*}\n"
   ]
  },
  {
   "cell_type": "markdown",
   "metadata": {},
   "source": [
    "Using Wolfram Alpha, we can calculate the triple derivative of g(x)\n",
    "\n",
    "https://www.wolframalpha.com/input/?i=derivative+of+%28double+derivative+of+x+-+f%5Cf%27+-+%28f%27%27+f%5E2%29%2F%282f%27%5E3%29%29\n",
    "\n",
    "But the expression is too complicated, even after simplifying it by putting x = p in it.\n",
    "\n",
    "So, going by the method used on https://en.wikipedia.org/wiki/Halley%27s_method#Cubic_convergence ,\n",
    "we can write"
   ]
  },
  {
   "cell_type": "markdown",
   "metadata": {},
   "source": [
    "\\begin{align*}\n",
    "\\frac{\\epsilon_{n+1}}{\\epsilon_n^3} = \\frac{2f'(p)f'''(p) - 3f''(p)^2}{12f'(p)^2} \\\\\n",
    "\\end{align*}\n"
   ]
  },
  {
   "cell_type": "markdown",
   "metadata": {},
   "source": [
    "Therefore,"
   ]
  },
  {
   "cell_type": "markdown",
   "metadata": {},
   "source": [
    "$$\\alpha = 3$$\n",
    "and\n",
    "$$\\lambda = \\frac{2f'(p)f'''(p) - 3f''(p)^2}{12f'(p)^2}$$"
   ]
  },
  {
   "cell_type": "markdown",
   "metadata": {},
   "source": [
    "## Problem 3"
   ]
  },
  {
   "cell_type": "code",
   "execution_count": 34,
   "metadata": {},
   "outputs": [],
   "source": [
    "theta2_0 = 30*np.pi/180;\n",
    "theta3_0 = 0;\n",
    "theta4 = 220 * np.pi/180\n",
    "\n",
    "r1 = 10; r2 = 6; r3 = 8; r4 = 4;\n",
    "\n",
    "theta2_n = theta2_0;\n",
    "theta3_n = theta3_0;\n",
    "\n",
    "Theta = np.array([\n",
    "    [theta2_n], [theta3_n]\n",
    "], np.float64);"
   ]
  },
  {
   "cell_type": "code",
   "execution_count": 35,
   "metadata": {},
   "outputs": [],
   "source": [
    "def Function(Theta):\n",
    "    return np.array([\n",
    "        [r2*np.cos(Theta[0][0]) + r3*np.cos(Theta[1][0]) + r4*np.cos(theta4) - r1],\n",
    "        [r2*np.sin(Theta[0][0]) + r3*np.sin(Theta[1][0]) + r4*np.sin(theta4)]\n",
    "    ])"
   ]
  },
  {
   "cell_type": "code",
   "execution_count": 36,
   "metadata": {},
   "outputs": [],
   "source": [
    "def Jacobian(Theta):\n",
    "    return np.array([\n",
    "        [-r2*np.sin(Theta[0][0]), -r3*np.sin(Theta[1][0])],\n",
    "        [r2*np.cos(Theta[0][0]), r3*np.cos(Theta[1][0])]\n",
    "    ])"
   ]
  },
  {
   "cell_type": "code",
   "execution_count": 37,
   "metadata": {},
   "outputs": [],
   "source": [
    "def determinant(matrix):\n",
    "    return matrix[0][0]*matrix[1][1] - matrix[0][1]*matrix[1][0]"
   ]
  },
  {
   "cell_type": "code",
   "execution_count": 38,
   "metadata": {},
   "outputs": [],
   "source": [
    "def inverse(matrix):\n",
    "    return np.array([\n",
    "        [matrix[1][1], -matrix[0][1]],\n",
    "        [-matrix[1][0], matrix[0][0]]\n",
    "    ])/determinant(matrix)"
   ]
  },
  {
   "cell_type": "markdown",
   "metadata": {},
   "source": [
    "##### I am defining error as the max of errors (|$\\theta_2^{n+1} - \\theta_2^n$| , |$\\theta_3^{n+1} - \\theta_3^n$|)"
   ]
  },
  {
   "cell_type": "code",
   "execution_count": 39,
   "metadata": {},
   "outputs": [],
   "source": [
    "def CoupledNewton(Theta_n=Theta, tol = 1e-4, max_iter=1000):\n",
    "    \"\"\"returns (p_n, no. of iterations, approximations)\"\"\"\n",
    "    i = 0; approximations = [Theta_n]\n",
    "    while(i < max_iter):\n",
    "        Jac = Jacobian(Theta_n)\n",
    "        if abs(determinant(Jac)) < np.finfo(float).eps:\n",
    "            print(\"Derivative (Jacobian) vanished. Stopping iteration\")\n",
    "            return (Theta_n, i, approximations)\n",
    "        i += 1\n",
    "        Theta_nplus1 = Theta_n - np.matmul(inverse(Jac), Function(Theta_n))\n",
    "        approximations.append(Theta_nplus1)\n",
    "        if max(abs(Theta_nplus1 - Theta_n)) < tol:\n",
    "            break\n",
    "        Theta_n = Theta_nplus1\n",
    "        \n",
    "    return (Theta_nplus1, i, approximations)"
   ]
  },
  {
   "cell_type": "code",
   "execution_count": 40,
   "metadata": {},
   "outputs": [],
   "source": [
    "(Theta, iterations, approximations) = CoupledNewton()"
   ]
  },
  {
   "cell_type": "code",
   "execution_count": 41,
   "metadata": {},
   "outputs": [
    {
     "name": "stdout",
     "output_type": "stream",
     "text": [
      "theta2 =  32.01518099634485\n",
      "theta3 =  -4.3709878918079985\n"
     ]
    }
   ],
   "source": [
    "print(\"theta2 = \", Theta[0][0] * 180/ np.pi)\n",
    "print(\"theta3 = \", Theta[1][0] * 180/ np.pi)\n",
    "#print(\"approximations = \", approximations)"
   ]
  },
  {
   "cell_type": "markdown",
   "metadata": {},
   "source": [
    "##### So, the angles in degrees are (after doing the calculations with all degrees in radians):\n",
    "##### $\\theta_2$ = 32.015\n",
    "##### $\\theta_3$ = -4.37 = 355.63\n",
    "##### No. of iterations = 3\n",
    "##### The 2x2 Jacobian was inverted in the process."
   ]
  },
  {
   "cell_type": "code",
   "execution_count": null,
   "metadata": {},
   "outputs": [],
   "source": []
  }
 ],
 "metadata": {
  "kernelspec": {
   "display_name": "Python 3",
   "language": "python",
   "name": "python3"
  },
  "language_info": {
   "codemirror_mode": {
    "name": "ipython",
    "version": 3
   },
   "file_extension": ".py",
   "mimetype": "text/x-python",
   "name": "python",
   "nbconvert_exporter": "python",
   "pygments_lexer": "ipython3",
   "version": "3.6.4"
  }
 },
 "nbformat": 4,
 "nbformat_minor": 2
}
