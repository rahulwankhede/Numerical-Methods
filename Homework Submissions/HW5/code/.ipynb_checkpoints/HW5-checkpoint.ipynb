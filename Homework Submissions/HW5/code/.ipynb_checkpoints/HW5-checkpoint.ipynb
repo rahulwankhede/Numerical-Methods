{
 "cells": [
  {
   "cell_type": "markdown",
   "metadata": {},
   "source": [
    "### Problem 2"
   ]
  },
  {
   "cell_type": "code",
   "execution_count": 1,
   "metadata": {},
   "outputs": [],
   "source": [
    "import numpy as np"
   ]
  },
  {
   "cell_type": "code",
   "execution_count": 2,
   "metadata": {},
   "outputs": [],
   "source": [
    "import matplotlib.pyplot as plt"
   ]
  },
  {
   "cell_type": "markdown",
   "metadata": {},
   "source": [
    "a) f(x) = x^1/3"
   ]
  },
  {
   "cell_type": "code",
   "execution_count": 3,
   "metadata": {},
   "outputs": [],
   "source": [
    "def f1(x):\n",
    "    return x**(1/3)"
   ]
  },
  {
   "cell_type": "code",
   "execution_count": 4,
   "metadata": {},
   "outputs": [],
   "source": [
    "a = 0; b = 1; n = 15"
   ]
  },
  {
   "cell_type": "code",
   "execution_count": 5,
   "metadata": {},
   "outputs": [],
   "source": [
    "def romberg(f, a, b, n):\n",
    "    R = np.zeros((3,n+1))\n",
    "    h = b-a\n",
    "    R[1][1] = h * (f(a) + f(b)) / 2\n",
    "    for i in range(2,n+1):\n",
    "        temp = sum([f(a + (k-0.5)*h) for k in range(1, 2**(i-2) + 1)])\n",
    "        R[2][1] = (h*temp + R[1][1])/2\n",
    "        for j in range(2,i+1):\n",
    "            R[2][j] = R[2][j-1] + (R[2][j-1] - R[1][j-1])/(4**(j-1) - 1)\n",
    "        print(R[2])\n",
    "        h = h/2\n",
    "        #print(R[1][i-1] - R[2][i])\n",
    "        if(abs(R[1][i-1] - R[2][i]) < 0.00001):\n",
    "            print(\"Found\", i, R[2][i])\n",
    "            break\n",
    "        for j in range(1,i+1):\n",
    "            R[1][j] = R[2][j]\n",
    "    return R"
   ]
  },
  {
   "cell_type": "code",
   "execution_count": 6,
   "metadata": {
    "scrolled": true
   },
   "outputs": [
    {
     "name": "stdout",
     "output_type": "stream",
     "text": [
      "[0.         0.64685026 0.69580035 0.         0.         0.\n",
      " 0.         0.         0.         0.         0.         0.\n",
      " 0.         0.         0.         0.        ]\n",
      "[0.         0.70805534 0.72845703 0.73063414 0.         0.\n",
      " 0.         0.         0.         0.         0.         0.\n",
      " 0.         0.         0.         0.        ]\n",
      "[0.         0.73309996 0.74144817 0.74231425 0.74249965 0.\n",
      " 0.         0.         0.         0.         0.         0.\n",
      " 0.         0.         0.         0.        ]\n",
      "[0.         0.74322952 0.74660604 0.7469499  0.74702348 0.74704122\n",
      " 0.         0.         0.         0.         0.         0.\n",
      " 0.         0.         0.         0.        ]\n",
      "[0.         0.7472972  0.7486531  0.74878957 0.74881877 0.74882581\n",
      " 0.74882755 0.         0.         0.         0.         0.\n",
      " 0.         0.         0.         0.        ]\n",
      "[0.         0.74892341 0.74946548 0.74951964 0.74953123 0.74953402\n",
      " 0.74953471 0.74953489 0.         0.         0.         0.\n",
      " 0.         0.         0.         0.        ]\n",
      "[0.         0.74957176 0.74978788 0.74980937 0.74981397 0.74981508\n",
      " 0.74981535 0.74981542 0.74981544 0.         0.         0.\n",
      " 0.         0.         0.         0.        ]\n",
      "[0.         0.7498298  0.74991582 0.74992435 0.74992617 0.74992661\n",
      " 0.74992672 0.74992675 0.74992676 0.74992676 0.         0.\n",
      " 0.         0.         0.         0.        ]\n",
      "[0.         0.7499324  0.74996659 0.74996998 0.7499707  0.74997088\n",
      " 0.74997092 0.74997093 0.74997093 0.74997093 0.74997093 0.\n",
      " 0.         0.         0.         0.        ]\n",
      "[0.         0.74997316 0.74998674 0.74998809 0.74998837 0.74998844\n",
      " 0.74998846 0.74998846 0.74998846 0.74998847 0.74998847 0.74998847\n",
      " 0.         0.         0.         0.        ]\n",
      "[0.         0.74998934 0.74999474 0.74999527 0.74999539 0.74999541\n",
      " 0.74999542 0.74999542 0.74999542 0.74999542 0.74999542 0.74999542\n",
      " 0.74999542 0.         0.         0.        ]\n",
      "Found 12 0.7499954223896332\n"
     ]
    },
    {
     "data": {
      "text/plain": [
       "array([[0.        , 0.        , 0.        , 0.        , 0.        ,\n",
       "        0.        , 0.        , 0.        , 0.        , 0.        ,\n",
       "        0.        , 0.        , 0.        , 0.        , 0.        ,\n",
       "        0.        ],\n",
       "       [0.        , 0.74997316, 0.74998674, 0.74998809, 0.74998837,\n",
       "        0.74998844, 0.74998846, 0.74998846, 0.74998846, 0.74998847,\n",
       "        0.74998847, 0.74998847, 0.        , 0.        , 0.        ,\n",
       "        0.        ],\n",
       "       [0.        , 0.74998934, 0.74999474, 0.74999527, 0.74999539,\n",
       "        0.74999541, 0.74999542, 0.74999542, 0.74999542, 0.74999542,\n",
       "        0.74999542, 0.74999542, 0.74999542, 0.        , 0.        ,\n",
       "        0.        ]])"
      ]
     },
     "execution_count": 6,
     "metadata": {},
     "output_type": "execute_result"
    }
   ],
   "source": [
    "romberg(f1, a, b, n)"
   ]
  },
  {
   "cell_type": "markdown",
   "metadata": {},
   "source": [
    "Comparisons"
   ]
  },
  {
   "cell_type": "code",
   "execution_count": 7,
   "metadata": {},
   "outputs": [
    {
     "name": "stdout",
     "output_type": "stream",
     "text": [
      "[0.         0.64685026 0.69580035]\n"
     ]
    },
    {
     "data": {
      "text/plain": [
       "array([[0.        , 0.        , 0.        ],\n",
       "       [0.        , 0.64685026, 0.69580035],\n",
       "       [0.        , 0.64685026, 0.69580035]])"
      ]
     },
     "execution_count": 7,
     "metadata": {},
     "output_type": "execute_result"
    }
   ],
   "source": [
    "n = 2\n",
    "romberg(f1, a, b, n)"
   ]
  },
  {
   "cell_type": "code",
   "execution_count": 8,
   "metadata": {},
   "outputs": [
    {
     "name": "stdout",
     "output_type": "stream",
     "text": [
      "[0.         0.64685026 0.69580035 0.        ]\n",
      "[0.         0.70805534 0.72845703 0.73063414]\n"
     ]
    },
    {
     "data": {
      "text/plain": [
       "array([[0.        , 0.        , 0.        , 0.        ],\n",
       "       [0.        , 0.70805534, 0.72845703, 0.73063414],\n",
       "       [0.        , 0.70805534, 0.72845703, 0.73063414]])"
      ]
     },
     "execution_count": 8,
     "metadata": {},
     "output_type": "execute_result"
    }
   ],
   "source": [
    "n = 3\n",
    "romberg(f1, a, b, n)"
   ]
  },
  {
   "cell_type": "code",
   "execution_count": 9,
   "metadata": {},
   "outputs": [
    {
     "name": "stdout",
     "output_type": "stream",
     "text": [
      "[0.         0.64685026 0.69580035 0.         0.        ]\n",
      "[0.         0.70805534 0.72845703 0.73063414 0.        ]\n",
      "[0.         0.73309996 0.74144817 0.74231425 0.74249965]\n"
     ]
    },
    {
     "data": {
      "text/plain": [
       "array([[0.        , 0.        , 0.        , 0.        , 0.        ],\n",
       "       [0.        , 0.73309996, 0.74144817, 0.74231425, 0.74249965],\n",
       "       [0.        , 0.73309996, 0.74144817, 0.74231425, 0.74249965]])"
      ]
     },
     "execution_count": 9,
     "metadata": {},
     "output_type": "execute_result"
    }
   ],
   "source": [
    "n = 4\n",
    "romberg(f1, a, b, n)"
   ]
  },
  {
   "cell_type": "code",
   "execution_count": 10,
   "metadata": {},
   "outputs": [
    {
     "name": "stdout",
     "output_type": "stream",
     "text": [
      "[0.         0.64685026 0.69580035 0.         0.         0.        ]\n",
      "[0.         0.70805534 0.72845703 0.73063414 0.         0.        ]\n",
      "[0.         0.73309996 0.74144817 0.74231425 0.74249965 0.        ]\n",
      "[0.         0.74322952 0.74660604 0.7469499  0.74702348 0.74704122]\n"
     ]
    },
    {
     "data": {
      "text/plain": [
       "array([[0.        , 0.        , 0.        , 0.        , 0.        ,\n",
       "        0.        ],\n",
       "       [0.        , 0.74322952, 0.74660604, 0.7469499 , 0.74702348,\n",
       "        0.74704122],\n",
       "       [0.        , 0.74322952, 0.74660604, 0.7469499 , 0.74702348,\n",
       "        0.74704122]])"
      ]
     },
     "execution_count": 10,
     "metadata": {},
     "output_type": "execute_result"
    }
   ],
   "source": [
    "n = 5\n",
    "romberg(f1, a, b, n)"
   ]
  },
  {
   "cell_type": "markdown",
   "metadata": {},
   "source": [
    "b) f(x) = x^2 e^-x"
   ]
  },
  {
   "cell_type": "code",
   "execution_count": 11,
   "metadata": {},
   "outputs": [],
   "source": [
    "def f2(x):\n",
    "    return x**2 * np.exp(-x)"
   ]
  },
  {
   "cell_type": "code",
   "execution_count": 12,
   "metadata": {},
   "outputs": [
    {
     "name": "stdout",
     "output_type": "stream",
     "text": [
      "[0.         0.16778619 0.16240168 0.         0.         0.        ]\n",
      "[0.         0.16248841 0.16072248 0.16061053 0.         0.        ]\n",
      "[0.         0.1610799  0.16061039 0.16060292 0.1606028  0.        ]\n",
      "Found 4 0.16060280012980105\n"
     ]
    },
    {
     "data": {
      "text/plain": [
       "array([[0.        , 0.        , 0.        , 0.        , 0.        ,\n",
       "        0.        ],\n",
       "       [0.        , 0.16248841, 0.16072248, 0.16061053, 0.        ,\n",
       "        0.        ],\n",
       "       [0.        , 0.1610799 , 0.16061039, 0.16060292, 0.1606028 ,\n",
       "        0.        ]])"
      ]
     },
     "execution_count": 12,
     "metadata": {},
     "output_type": "execute_result"
    }
   ],
   "source": [
    "romberg(f2, a, b, n)"
   ]
  },
  {
   "cell_type": "markdown",
   "metadata": {},
   "source": [
    "Comparisons"
   ]
  },
  {
   "cell_type": "code",
   "execution_count": 13,
   "metadata": {},
   "outputs": [
    {
     "name": "stdout",
     "output_type": "stream",
     "text": [
      "[0.         0.16778619 0.16240168]\n"
     ]
    },
    {
     "data": {
      "text/plain": [
       "array([[0.        , 0.        , 0.        ],\n",
       "       [0.        , 0.16778619, 0.16240168],\n",
       "       [0.        , 0.16778619, 0.16240168]])"
      ]
     },
     "execution_count": 13,
     "metadata": {},
     "output_type": "execute_result"
    }
   ],
   "source": [
    "n = 2\n",
    "romberg(f2, a, b, n)"
   ]
  },
  {
   "cell_type": "code",
   "execution_count": 14,
   "metadata": {},
   "outputs": [
    {
     "name": "stdout",
     "output_type": "stream",
     "text": [
      "[0.         0.16778619 0.16240168 0.        ]\n",
      "[0.         0.16248841 0.16072248 0.16061053]\n"
     ]
    },
    {
     "data": {
      "text/plain": [
       "array([[0.        , 0.        , 0.        , 0.        ],\n",
       "       [0.        , 0.16248841, 0.16072248, 0.16061053],\n",
       "       [0.        , 0.16248841, 0.16072248, 0.16061053]])"
      ]
     },
     "execution_count": 14,
     "metadata": {},
     "output_type": "execute_result"
    }
   ],
   "source": [
    "n = 3\n",
    "romberg(f2, a, b, n)"
   ]
  },
  {
   "cell_type": "code",
   "execution_count": 15,
   "metadata": {},
   "outputs": [
    {
     "name": "stdout",
     "output_type": "stream",
     "text": [
      "[0.         0.16778619 0.16240168 0.         0.        ]\n",
      "[0.         0.16248841 0.16072248 0.16061053 0.        ]\n",
      "[0.         0.1610799  0.16061039 0.16060292 0.1606028 ]\n",
      "Found 4 0.16060280012980105\n"
     ]
    },
    {
     "data": {
      "text/plain": [
       "array([[0.        , 0.        , 0.        , 0.        , 0.        ],\n",
       "       [0.        , 0.16248841, 0.16072248, 0.16061053, 0.        ],\n",
       "       [0.        , 0.1610799 , 0.16061039, 0.16060292, 0.1606028 ]])"
      ]
     },
     "execution_count": 15,
     "metadata": {},
     "output_type": "execute_result"
    }
   ],
   "source": [
    "n = 4\n",
    "romberg(f2, a, b, n)"
   ]
  },
  {
   "cell_type": "markdown",
   "metadata": {},
   "source": [
    "### Problem 3"
   ]
  },
  {
   "cell_type": "code",
   "execution_count": 16,
   "metadata": {},
   "outputs": [],
   "source": [
    "r2 = [0.5773502692,-0.5773502692]\n",
    "r3 = [0.7745966692,0.0000000000,-0.7745966692]\n",
    "r4 = [0.8611363116,0.3399810436,-0.3399810436,-0.8611363116]\n",
    "r5 = [0.9061798459,0.5384693101,0.0000000000,-0.5384693101,-0.9061798459]"
   ]
  },
  {
   "cell_type": "code",
   "execution_count": 17,
   "metadata": {},
   "outputs": [],
   "source": [
    "c2 = [1.0000000000,1.0000000000]\n",
    "c3 = [0.5555555556,0.8888888889,0.5555555556]\n",
    "c4 = [0.3478548451,0.6521451549,0.6521451549,0.3478548451]\n",
    "c5 = [0.2369268850,0.4786286705,0.5688888889,0.4786286705,0.2369268850]"
   ]
  },
  {
   "cell_type": "code",
   "execution_count": 18,
   "metadata": {},
   "outputs": [],
   "source": [
    "r2 = [(x+1) / 2 for x in r2]\n",
    "r3 = [(x+1) / 2 for x in r3]\n",
    "r4 = [(x+1) / 2 for x in r4]\n",
    "r5 = [(x+1) / 2 for x in r5]"
   ]
  },
  {
   "cell_type": "code",
   "execution_count": 19,
   "metadata": {},
   "outputs": [],
   "source": [
    "c2 = [x / 2 for x in c2]\n",
    "c3 = [x / 2 for x in c3]\n",
    "c4 = [x / 2 for x in c4]\n",
    "c5 = [x / 2 for x in c5]"
   ]
  },
  {
   "cell_type": "code",
   "execution_count": 20,
   "metadata": {},
   "outputs": [],
   "source": [
    "def g(f, x, c):\n",
    "    return c * f(x)"
   ]
  },
  {
   "cell_type": "markdown",
   "metadata": {},
   "source": [
    "a) f1"
   ]
  },
  {
   "cell_type": "code",
   "execution_count": 21,
   "metadata": {},
   "outputs": [],
   "source": [
    "def gaussian(f):\n",
    "    \n",
    "    ret = np.zeros([5])\n",
    "\n",
    "    R = np.zeros([5,5])\n",
    "    C = np.zeros([5,5])\n",
    "    R[1,0:2] = r2\n",
    "    C[1,0:2] = c2\n",
    "    \n",
    "    R[2,0:3] = r3\n",
    "    C[2,0:3] = c3\n",
    "    \n",
    "    R[3,0:4] = r4\n",
    "    C[3,0:4] = c4\n",
    "    \n",
    "    R[4] = r5\n",
    "    C[4] = c5\n",
    "\n",
    "    for i in range(5):\n",
    "        ret[i] = np.sum(g(f, R[i], C[i]))\n",
    "    \n",
    "    return ret[1:5]"
   ]
  },
  {
   "cell_type": "code",
   "execution_count": 22,
   "metadata": {},
   "outputs": [
    {
     "data": {
      "text/plain": [
       "array([0.75977802, 0.75385547, 0.75194648, 0.75113231])"
      ]
     },
     "execution_count": 22,
     "metadata": {},
     "output_type": "execute_result"
    }
   ],
   "source": [
    "gaussian(f1)"
   ]
  },
  {
   "cell_type": "code",
   "execution_count": 23,
   "metadata": {},
   "outputs": [
    {
     "data": {
      "text/plain": [
       "array([0.15941043, 0.16059539, 0.16060278, 0.16060279])"
      ]
     },
     "execution_count": 23,
     "metadata": {},
     "output_type": "execute_result"
    }
   ],
   "source": [
    "gaussian(f2)"
   ]
  },
  {
   "cell_type": "markdown",
   "metadata": {},
   "source": [
    "The number of function evaluations = n = 5\n",
    "Results are not as accurate as Romberg's but good enough"
   ]
  },
  {
   "cell_type": "markdown",
   "metadata": {},
   "source": [
    "### Problem 4"
   ]
  },
  {
   "cell_type": "markdown",
   "metadata": {},
   "source": [
    "### Euler"
   ]
  },
  {
   "cell_type": "code",
   "execution_count": 24,
   "metadata": {},
   "outputs": [],
   "source": [
    "def f(t, y):\n",
    "    return (1/(t**2)) - (y/t) - (y**2)"
   ]
  },
  {
   "cell_type": "code",
   "execution_count": 25,
   "metadata": {},
   "outputs": [],
   "source": [
    "a = 1\n",
    "b = 2\n",
    "alpha = -1"
   ]
  },
  {
   "cell_type": "code",
   "execution_count": 26,
   "metadata": {},
   "outputs": [],
   "source": [
    "def euler(n):\n",
    "    h = 0.1*(2**(-n))\n",
    "    N = int((b - a)/h)\n",
    "    ret = np.zeros((N+1,3))\n",
    "    t = a\n",
    "    w = alpha\n",
    "    \n",
    "    ret[0] = (t, w, (-1/t))\n",
    "    \n",
    "    for i in range(1, N+1):\n",
    "        w = w + h*f(t,w)\n",
    "        t = t + h\n",
    "        ret[i] = (t,w, (-1/t))\n",
    "        \n",
    "    plt.plot(ret[:, 0], ret[:, 1], label='Calculated')\n",
    "    plt.plot(ret[:, 0], ret[:, 2], label='Actual')\n",
    "    plt.xlabel('t')\n",
    "    plt.ylabel('y(t)')\n",
    "    plt.title('n = %d' %(n))\n",
    "    plt.legend()\n",
    "    plt.savefig('./images/euler_n=%d.pdf' %(n), bbox_inches='tight')\n",
    "    \n",
    "    return ret[-1][1]"
   ]
  },
  {
   "cell_type": "code",
   "execution_count": 27,
   "metadata": {},
   "outputs": [
    {
     "data": {
      "image/png": "[encoded data removed]",
      "text/plain": [
       "<Figure size 432x288 with 1 Axes>"
      ]
     },
     "metadata": {
      "needs_background": "light"
     },
     "output_type": "display_data"
    }
   ],
   "source": [
    "ret0 = euler(0)"
   ]
  },
  {
   "cell_type": "code",
   "execution_count": 28,
   "metadata": {},
   "outputs": [
    {
     "data": {
      "text/plain": [
       "-0.4431387797315272"
      ]
     },
     "execution_count": 28,
     "metadata": {},
     "output_type": "execute_result"
    }
   ],
   "source": [
    "ret0"
   ]
  },
  {
   "cell_type": "code",
   "execution_count": 29,
   "metadata": {},
   "outputs": [
    {
     "data": {
      "image/png": "[encoded data removed]",
      "text/plain": [
       "<Figure size 432x288 with 1 Axes>"
      ]
     },
     "metadata": {
      "needs_background": "light"
     },
     "output_type": "display_data"
    }
   ],
   "source": [
    "ret1 = euler(1)"
   ]
  },
  {
   "cell_type": "code",
   "execution_count": 30,
   "metadata": {},
   "outputs": [
    {
     "data": {
      "text/plain": [
       "-0.47121969883278536"
      ]
     },
     "execution_count": 30,
     "metadata": {},
     "output_type": "execute_result"
    }
   ],
   "source": [
    "ret1"
   ]
  },
  {
   "cell_type": "code",
   "execution_count": 31,
   "metadata": {},
   "outputs": [
    {
     "data": {
      "image/png": "[encoded data removed]",
      "text/plain": [
       "<Figure size 432x288 with 1 Axes>"
      ]
     },
     "metadata": {
      "needs_background": "light"
     },
     "output_type": "display_data"
    }
   ],
   "source": [
    "ret2 = euler(2)"
   ]
  },
  {
   "cell_type": "code",
   "execution_count": 32,
   "metadata": {},
   "outputs": [
    {
     "data": {
      "text/plain": [
       "-0.48551584479373777"
      ]
     },
     "execution_count": 32,
     "metadata": {},
     "output_type": "execute_result"
    }
   ],
   "source": [
    "ret2"
   ]
  },
  {
   "cell_type": "code",
   "execution_count": 33,
   "metadata": {},
   "outputs": [
    {
     "data": {
      "image/png": "[encoded data removed]",
      "text/plain": [
       "<Figure size 432x288 with 1 Axes>"
      ]
     },
     "metadata": {
      "needs_background": "light"
     },
     "output_type": "display_data"
    }
   ],
   "source": [
    "ret3 = euler(3)"
   ]
  },
  {
   "cell_type": "code",
   "execution_count": 34,
   "metadata": {},
   "outputs": [
    {
     "data": {
      "text/plain": [
       "-0.4927334724679309"
      ]
     },
     "execution_count": 34,
     "metadata": {},
     "output_type": "execute_result"
    }
   ],
   "source": [
    "ret3"
   ]
  },
  {
   "cell_type": "code",
   "execution_count": 35,
   "metadata": {},
   "outputs": [
    {
     "data": {
      "image/png": "[encoded data removed]",
      "text/plain": [
       "<Figure size 432x288 with 1 Axes>"
      ]
     },
     "metadata": {
      "needs_background": "light"
     },
     "output_type": "display_data"
    }
   ],
   "source": [
    "ret4 = euler(4)"
   ]
  },
  {
   "cell_type": "code",
   "execution_count": 36,
   "metadata": {},
   "outputs": [
    {
     "data": {
      "text/plain": [
       "-0.49636049595380843"
      ]
     },
     "execution_count": 36,
     "metadata": {},
     "output_type": "execute_result"
    }
   ],
   "source": [
    "ret4"
   ]
  },
  {
   "cell_type": "code",
   "execution_count": 37,
   "metadata": {},
   "outputs": [],
   "source": [
    "errors_euler = [0.5 + ret0, 0.5 + ret1, 0.5 + ret2, 0.5 + ret3, 0.5 + ret4]"
   ]
  },
  {
   "cell_type": "markdown",
   "metadata": {},
   "source": [
    "### Modified Euler"
   ]
  },
  {
   "cell_type": "code",
   "execution_count": 38,
   "metadata": {},
   "outputs": [],
   "source": [
    "def mod_euler(n):\n",
    "    h = 0.1*(2**(-n))\n",
    "    N = int((b - a)/h)\n",
    "    ret = np.zeros((N+1,3))\n",
    "    t = a\n",
    "    w = alpha\n",
    "    \n",
    "    ret[0] = (t, w, (-1/t))\n",
    "    \n",
    "    for i in range(1, N+1):\n",
    "        temp = f(t,w)\n",
    "        w = w + h*(temp + f(t+h, w + h*temp))/2\n",
    "        t = t + h\n",
    "        ret[i] = (t,w, (-1/t))\n",
    "        \n",
    "    plt.plot(ret[:, 0], ret[:, 1], label='Calculated')\n",
    "    plt.plot(ret[:, 0], ret[:, 2], label='Actual')\n",
    "    plt.xlabel('t')\n",
    "    plt.ylabel('y(t)')\n",
    "    plt.title('n = %d' %(n))\n",
    "    plt.legend()\n",
    "    plt.savefig('./images/mod_euler_n=%d.pdf' %(n), bbox_inches='tight')\n",
    "    \n",
    "    return ret[-1][1]"
   ]
  },
  {
   "cell_type": "code",
   "execution_count": 39,
   "metadata": {},
   "outputs": [
    {
     "data": {
      "image/png": "[encoded data removed]",
      "text/plain": [
       "<Figure size 432x288 with 1 Axes>"
      ]
     },
     "metadata": {
      "needs_background": "light"
     },
     "output_type": "display_data"
    }
   ],
   "source": [
    "ret0 = mod_euler(0)"
   ]
  },
  {
   "cell_type": "code",
   "execution_count": 40,
   "metadata": {},
   "outputs": [
    {
     "data": {
      "image/png": "[encoded data removed]",
      "text/plain": [
       "<Figure size 432x288 with 1 Axes>"
      ]
     },
     "metadata": {
      "needs_background": "light"
     },
     "output_type": "display_data"
    }
   ],
   "source": [
    "ret1 = mod_euler(1)"
   ]
  },
  {
   "cell_type": "code",
   "execution_count": 41,
   "metadata": {},
   "outputs": [
    {
     "data": {
      "image/png": "[encoded data removed]",
      "text/plain": [
       "<Figure size 432x288 with 1 Axes>"
      ]
     },
     "metadata": {
      "needs_background": "light"
     },
     "output_type": "display_data"
    }
   ],
   "source": [
    "ret2 = mod_euler(2)"
   ]
  },
  {
   "cell_type": "code",
   "execution_count": 42,
   "metadata": {},
   "outputs": [
    {
     "data": {
      "image/png": "[encoded data removed]",
      "text/plain": [
       "<Figure size 432x288 with 1 Axes>"
      ]
     },
     "metadata": {
      "needs_background": "light"
     },
     "output_type": "display_data"
    }
   ],
   "source": [
    "ret3 = mod_euler(3)"
   ]
  },
  {
   "cell_type": "code",
   "execution_count": 43,
   "metadata": {},
   "outputs": [
    {
     "data": {
      "image/png": "[encoded data removed]",
      "text/plain": [
       "<Figure size 432x288 with 1 Axes>"
      ]
     },
     "metadata": {
      "needs_background": "light"
     },
     "output_type": "display_data"
    }
   ],
   "source": [
    "ret4 = mod_euler(4)"
   ]
  },
  {
   "cell_type": "code",
   "execution_count": 44,
   "metadata": {},
   "outputs": [
    {
     "data": {
      "text/plain": [
       "-0.4955565025701354"
      ]
     },
     "execution_count": 44,
     "metadata": {},
     "output_type": "execute_result"
    }
   ],
   "source": [
    "ret0"
   ]
  },
  {
   "cell_type": "code",
   "execution_count": 45,
   "metadata": {},
   "outputs": [
    {
     "data": {
      "text/plain": [
       "-0.49885563460088017"
      ]
     },
     "execution_count": 45,
     "metadata": {},
     "output_type": "execute_result"
    }
   ],
   "source": [
    "ret1"
   ]
  },
  {
   "cell_type": "code",
   "execution_count": 46,
   "metadata": {},
   "outputs": [
    {
     "data": {
      "text/plain": [
       "-0.49971026858569456"
      ]
     },
     "execution_count": 46,
     "metadata": {},
     "output_type": "execute_result"
    }
   ],
   "source": [
    "ret2"
   ]
  },
  {
   "cell_type": "code",
   "execution_count": 47,
   "metadata": {},
   "outputs": [
    {
     "data": {
      "text/plain": [
       "-0.4999271494828502"
      ]
     },
     "execution_count": 47,
     "metadata": {},
     "output_type": "execute_result"
    }
   ],
   "source": [
    "ret3"
   ]
  },
  {
   "cell_type": "code",
   "execution_count": 48,
   "metadata": {},
   "outputs": [
    {
     "data": {
      "text/plain": [
       "-0.4999817375875321"
      ]
     },
     "execution_count": 48,
     "metadata": {},
     "output_type": "execute_result"
    }
   ],
   "source": [
    "ret4"
   ]
  },
  {
   "cell_type": "code",
   "execution_count": 49,
   "metadata": {},
   "outputs": [],
   "source": [
    "errors_modeuler = [0.5 + ret0, 0.5 + ret1, 0.5 + ret2, 0.5 + ret3, 0.5 + ret4]"
   ]
  },
  {
   "cell_type": "code",
   "execution_count": 50,
   "metadata": {},
   "outputs": [
    {
     "data": {
      "text/plain": [
       "[0.004443497429864607,\n",
       " 0.0011443653991198288,\n",
       " 0.0002897314143054386,\n",
       " 7.285051714978064e-05,\n",
       " 1.8262412467884293e-05]"
      ]
     },
     "execution_count": 50,
     "metadata": {},
     "output_type": "execute_result"
    }
   ],
   "source": [
    "errors_modeuler"
   ]
  },
  {
   "cell_type": "code",
   "execution_count": 51,
   "metadata": {},
   "outputs": [],
   "source": [
    "x_points = [1/(0.1*(2**(-i))) for i in range(5)]"
   ]
  },
  {
   "cell_type": "code",
   "execution_count": 52,
   "metadata": {},
   "outputs": [
    {
     "data": {
      "text/plain": [
       "[10.0, 20.0, 40.0, 80.0, 160.0]"
      ]
     },
     "execution_count": 52,
     "metadata": {},
     "output_type": "execute_result"
    }
   ],
   "source": [
    "x_points"
   ]
  },
  {
   "cell_type": "code",
   "execution_count": 53,
   "metadata": {},
   "outputs": [
    {
     "data": {
      "image/png": "[encoded data removed]",
      "text/plain": [
       "<Figure size 432x288 with 1 Axes>"
      ]
     },
     "metadata": {
      "needs_background": "light"
     },
     "output_type": "display_data"
    }
   ],
   "source": [
    "plt.loglog(x_points, errors_euler, label='Euler')\n",
    "plt.loglog(x_points, errors_modeuler, label='Modified Euler')\n",
    "plt.xlabel(r'$\\log(1/\\Delta t)$')\n",
    "plt.ylabel(r'$\\log(|err|)$')\n",
    "plt.legend()\n",
    "plt.savefig('./images/eulervsmod_euler.pdf', bbox_inches='tight')"
   ]
  },
  {
   "cell_type": "code",
   "execution_count": null,
   "metadata": {},
   "outputs": [],
   "source": []
  }
 ],
 "metadata": {
  "kernelspec": {
   "display_name": "Python 3",
   "language": "python",
   "name": "python3"
  },
  "language_info": {
   "codemirror_mode": {
    "name": "ipython",
    "version": 3
   },
   "file_extension": ".py",
   "mimetype": "text/x-python",
   "name": "python",
   "nbconvert_exporter": "python",
   "pygments_lexer": "ipython3",
   "version": "3.7.3"
  }
 },
 "nbformat": 4,
 "nbformat_minor": 2
}
